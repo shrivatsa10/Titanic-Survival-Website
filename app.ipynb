{
 "cells": [
  {
   "cell_type": "code",
   "execution_count": null,
   "metadata": {},
   "outputs": [
    {
     "name": "stdout",
     "output_type": "stream",
     "text": [
      " * Serving Flask app \"__main__\" (lazy loading)\n",
      " * Environment: production\n",
      "   WARNING: This is a development server. Do not use it in a production deployment.\n",
      "   Use a production WSGI server instead.\n",
      " * Debug mode: off\n"
     ]
    },
    {
     "name": "stderr",
     "output_type": "stream",
     "text": [
      " * Running on http://127.0.0.1:5000/ (Press CTRL+C to quit)\n",
      "127.0.0.1 - - [31/May/2020 22:40:36] \"\u001b[37mGET / HTTP/1.1\u001b[0m\" 200 -\n",
      "127.0.0.1 - - [31/May/2020 22:40:37] \"\u001b[33mGET /static/css2/style.css HTTP/1.1\u001b[0m\" 404 -\n",
      "127.0.0.1 - - [31/May/2020 22:40:37] \"\u001b[33mGET /.js/materialize.js HTTP/1.1\u001b[0m\" 404 -\n",
      "127.0.0.1 - - [31/May/2020 22:40:37] \"\u001b[33mGET /js/init.js HTTP/1.1\u001b[0m\" 404 -\n",
      "127.0.0.1 - - [31/May/2020 22:40:37] \"\u001b[33mGET /.js/materialize.js HTTP/1.1\u001b[0m\" 404 -\n",
      "127.0.0.1 - - [31/May/2020 22:40:37] \"\u001b[33mGET /js/init.js HTTP/1.1\u001b[0m\" 404 -\n",
      "127.0.0.1 - - [31/May/2020 22:40:52] \"\u001b[37mPOST /predict HTTP/1.1\u001b[0m\" 200 -\n",
      "127.0.0.1 - - [31/May/2020 22:40:52] \"\u001b[33mGET /static/css2/style.css HTTP/1.1\u001b[0m\" 404 -\n",
      "127.0.0.1 - - [31/May/2020 22:40:52] \"\u001b[33mGET /.js/materialize.js HTTP/1.1\u001b[0m\" 404 -\n",
      "127.0.0.1 - - [31/May/2020 22:40:52] \"\u001b[33mGET /js/init.js HTTP/1.1\u001b[0m\" 404 -\n"
     ]
    },
    {
     "name": "stdout",
     "output_type": "stream",
     "text": [
      "[28, 7000, 0]\n",
      "[array([  28, 7000,    0])]\n"
     ]
    },
    {
     "name": "stderr",
     "output_type": "stream",
     "text": [
      "127.0.0.1 - - [31/May/2020 22:41:21] \"\u001b[37mPOST /predict HTTP/1.1\u001b[0m\" 200 -\n",
      "127.0.0.1 - - [31/May/2020 22:41:21] \"\u001b[33mGET /static/css2/style.css HTTP/1.1\u001b[0m\" 404 -\n",
      "127.0.0.1 - - [31/May/2020 22:41:21] \"\u001b[33mGET /.js/materialize.js HTTP/1.1\u001b[0m\" 404 -\n",
      "127.0.0.1 - - [31/May/2020 22:41:21] \"\u001b[33mGET /js/init.js HTTP/1.1\u001b[0m\" 404 -\n"
     ]
    },
    {
     "name": "stdout",
     "output_type": "stream",
     "text": [
      "[28, 7000, 0]\n",
      "[array([  28, 7000,    0])]\n"
     ]
    },
    {
     "name": "stderr",
     "output_type": "stream",
     "text": [
      "127.0.0.1 - - [31/May/2020 22:41:28] \"\u001b[37mPOST /predict HTTP/1.1\u001b[0m\" 200 -\n",
      "127.0.0.1 - - [31/May/2020 22:41:28] \"\u001b[33mGET /static/css2/style.css HTTP/1.1\u001b[0m\" 404 -\n",
      "127.0.0.1 - - [31/May/2020 22:41:28] \"\u001b[33mGET /.js/materialize.js HTTP/1.1\u001b[0m\" 404 -\n",
      "127.0.0.1 - - [31/May/2020 22:41:28] \"\u001b[33mGET /js/init.js HTTP/1.1\u001b[0m\" 404 -\n"
     ]
    },
    {
     "name": "stdout",
     "output_type": "stream",
     "text": [
      "[28, 7000, 0]\n",
      "[array([  28, 7000,    0])]\n"
     ]
    },
    {
     "name": "stderr",
     "output_type": "stream",
     "text": [
      "127.0.0.1 - - [31/May/2020 22:41:33] \"\u001b[37mPOST /predict HTTP/1.1\u001b[0m\" 200 -\n",
      "127.0.0.1 - - [31/May/2020 22:41:33] \"\u001b[33mGET /static/css2/style.css HTTP/1.1\u001b[0m\" 404 -\n",
      "127.0.0.1 - - [31/May/2020 22:41:33] \"\u001b[33mGET /.js/materialize.js HTTP/1.1\u001b[0m\" 404 -\n",
      "127.0.0.1 - - [31/May/2020 22:41:33] \"\u001b[33mGET /js/init.js HTTP/1.1\u001b[0m\" 404 -\n"
     ]
    },
    {
     "name": "stdout",
     "output_type": "stream",
     "text": [
      "[28, 7000, 0]\n",
      "[array([  28, 7000,    0])]\n"
     ]
    },
    {
     "name": "stderr",
     "output_type": "stream",
     "text": [
      "127.0.0.1 - - [31/May/2020 22:41:36] \"\u001b[37mGET / HTTP/1.1\u001b[0m\" 200 -\n",
      "127.0.0.1 - - [31/May/2020 22:41:36] \"\u001b[33mGET /static/css2/style.css HTTP/1.1\u001b[0m\" 404 -\n",
      "127.0.0.1 - - [31/May/2020 22:41:36] \"\u001b[33mGET /.js/materialize.js HTTP/1.1\u001b[0m\" 404 -\n",
      "127.0.0.1 - - [31/May/2020 22:41:36] \"\u001b[33mGET /js/init.js HTTP/1.1\u001b[0m\" 404 -\n",
      "127.0.0.1 - - [31/May/2020 22:41:36] \"\u001b[33mGET /.js/materialize.js HTTP/1.1\u001b[0m\" 404 -\n",
      "127.0.0.1 - - [31/May/2020 22:41:36] \"\u001b[33mGET /js/init.js HTTP/1.1\u001b[0m\" 404 -\n",
      "127.0.0.1 - - [31/May/2020 22:41:50] \"\u001b[37mPOST /predict HTTP/1.1\u001b[0m\" 200 -\n",
      "127.0.0.1 - - [31/May/2020 22:41:50] \"\u001b[33mGET /static/css2/style.css HTTP/1.1\u001b[0m\" 404 -\n",
      "127.0.0.1 - - [31/May/2020 22:41:50] \"\u001b[33mGET /.js/materialize.js HTTP/1.1\u001b[0m\" 404 -\n",
      "127.0.0.1 - - [31/May/2020 22:41:50] \"\u001b[33mGET /js/init.js HTTP/1.1\u001b[0m\" 404 -\n",
      "127.0.0.1 - - [31/May/2020 22:41:50] \"\u001b[33mGET /.js/materialize.js HTTP/1.1\u001b[0m\" 404 -\n",
      "127.0.0.1 - - [31/May/2020 22:41:50] \"\u001b[33mGET /js/init.js HTTP/1.1\u001b[0m\" 404 -\n"
     ]
    },
    {
     "name": "stdout",
     "output_type": "stream",
     "text": [
      "[28, 7000, 0]\n",
      "[array([  28, 7000,    0])]\n"
     ]
    }
   ],
   "source": [
    "from flask import Flask,request, url_for, redirect, render_template\n",
    "import pickle\n",
    "import numpy as np\n",
    "\n",
    "app = Flask(__name__)\n",
    "\n",
    "test=pickle.load(open('test3.pkl','rb'))\n",
    "\n",
    "\n",
    "@app.route('/')\n",
    "def hello_world():\n",
    "    return render_template(\"T2.html\")\n",
    "\n",
    "\n",
    "@app.route('/predict',methods=['POST','GET'])\n",
    "def predict():\n",
    "    int_features=[int(x) for x in request.form.values()]\n",
    "    final=[np.array(int_features)]\n",
    "    print(int_features)\n",
    "    print(final)\n",
    "    prediction=test.predict(final)\n",
    "\n",
    "    if prediction == 0:\n",
    "        return render_template('T2.html',pred='Your life is in Danger!\\nProbability of survival is {}'.format(prediction))\n",
    "    else:\n",
    "        return render_template('T2.html',pred='You are safe!\\n Probability of survival is {}'.format(prediction))\n",
    "\n",
    "\n",
    "if __name__==\"__main__\":\n",
    "    app.run(debug=False) "
   ]
  },
  {
   "cell_type": "code",
   "execution_count": null,
   "metadata": {},
   "outputs": [],
   "source": []
  }
 ],
 "metadata": {
  "kernelspec": {
   "display_name": "Python 3",
   "language": "python",
   "name": "python3"
  },
  "language_info": {
   "codemirror_mode": {
    "name": "ipython",
    "version": 3
   },
   "file_extension": ".py",
   "mimetype": "text/x-python",
   "name": "python",
   "nbconvert_exporter": "python",
   "pygments_lexer": "ipython3",
   "version": "3.7.6"
  }
 },
 "nbformat": 4,
 "nbformat_minor": 4
}
